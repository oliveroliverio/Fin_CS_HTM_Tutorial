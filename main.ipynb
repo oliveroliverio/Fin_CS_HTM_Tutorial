{
 "cells": [
  {
   "cell_type": "code",
   "execution_count": 23,
   "source": [
    "import os\n",
    "import sqlite3\n",
    "os.getcwd()"
   ],
   "outputs": [],
   "metadata": {
    "collapsed": false,
    "pycharm": {
     "name": "#%%\n"
    }
   }
  },
  {
   "cell_type": "code",
   "execution_count": 27,
   "source": [
    "connection = sqlite3.connect('app2.db')"
   ],
   "outputs": [],
   "metadata": {
    "collapsed": false,
    "pycharm": {
     "name": "#%%\n"
    }
   }
  },
  {
   "cell_type": "code",
   "execution_count": 28,
   "source": [
    "# to execute queries, need to create cursor object\n",
    "cursor = connection.cursor()\n",
    "\n",
    "# execute create table statments\n",
    "cursor.execute(\"\"\"\n",
    "    CREATE TABLE IF NOT EXISTS stock (\n",
    "    id INTEGER PRIMARY KEY,\n",
    "    symbol TEXT NOT NULL UNIQUE,\n",
    "    name TEXT NOT NULL\n",
    "    )\n",
    "\"\"\")\n",
    "\n",
    "cursor.execute(\"\"\"\n",
    "    CREATE TABLE IF NOT EXISTS stock_price (\n",
    "    id INTEGER PRIMARY KEY,\n",
    "    stock_id INTEGER,\n",
    "    date NOT NULL,\n",
    "    open NOT NULL,\n",
    "    high NOT NULL,\n",
    "    low NOT NULL,\n",
    "    close NOT NULL,\n",
    "    adjusted_close NOT NULL,\n",
    "    volume NOT NULL,\n",
    "    FOREIGN KEY (stock_id) references stock (id)\n",
    "    )\n",
    "\"\"\")\n",
    "\n",
    "# commit transaction\n",
    "connection.commit()\n",
    "\n",
    "# sometimes you want to roll back changes (internet connection interrupted\n",
    "# how to do this?"
   ],
   "outputs": [],
   "metadata": {
    "collapsed": false,
    "pycharm": {
     "name": "#%%\n"
    }
   }
  },
  {
   "cell_type": "code",
   "execution_count": null,
   "source": [],
   "outputs": [],
   "metadata": {
    "collapsed": false,
    "pycharm": {
     "name": "#%%\n"
    }
   }
  }
 ],
 "metadata": {
  "kernelspec": {
   "display_name": "Python 3",
   "language": "python",
   "name": "python3"
  },
  "language_info": {
   "codemirror_mode": {
    "name": "ipython",
    "version": 2
   },
   "file_extension": ".py",
   "mimetype": "text/x-python",
   "name": "python",
   "nbconvert_exporter": "python",
   "pygments_lexer": "ipython2",
   "version": "2.7.6"
  }
 },
 "nbformat": 4,
 "nbformat_minor": 2
}